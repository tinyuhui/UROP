{
 "cells": [
  {
   "cell_type": "markdown",
   "id": "5e115fdb",
   "metadata": {},
   "source": [
    "25/08/2021\n",
    "See how migration affects Ne estimates from LD signals?\n",
    "\n",
    "The LD (measued by $r^2$) values at the current generation are affected by past $N_e$ and migration. We also know that the recombination rate $c$ is an intrinsic factor, affecting the time to gametic equilibrium. \n",
    "\n",
    "If we ignore migration then the estimated $N_e$ will be larger than the true focal population size. The first simulation assesses the $N_e$ bias induced by migration. Two scenarios are run: two equal-sized demes of $N_e=1000$ each, and the island-mainland scenatio with $N_e=1000/10000$. $N_e$ is estimated via Park's formula. "
   ]
  },
  {
   "cell_type": "code",
   "execution_count": 1,
   "id": "11c06e1a",
   "metadata": {},
   "outputs": [
    {
     "name": "stderr",
     "output_type": "stream",
     "text": [
      "Loading required package: compiler\n"
     ]
    },
    {
     "data": {
      "text/html": [
       "3"
      ],
      "text/latex": [
       "3"
      ],
      "text/markdown": [
       "3"
      ],
      "text/plain": [
       "[1] 3"
      ]
     },
     "metadata": {},
     "output_type": "display_data"
    },
    {
     "name": "stderr",
     "output_type": "stream",
     "text": [
      "Loading required package: doParallel\n",
      "Loading required package: foreach\n",
      "Loading required package: iterators\n",
      "Loading required package: parallel\n"
     ]
    }
   ],
   "source": [
    "# MIGRATION LD AND BIAS\n",
    "require(compiler)\n",
    "enableJIT(3)\n",
    "require(doParallel)"
   ]
  },
  {
   "cell_type": "code",
   "execution_count": 2,
   "id": "cb1d9495",
   "metadata": {},
   "outputs": [],
   "source": [
    "# SOME FUNCTIONS\n",
    "fsum<-function(x) {.Primitive('sum')(x)}\n",
    "f1<-function(x, i) {x[[i]]}\n",
    "f2<-function(x, i)\n",
    "{\n",
    "    temp<-lapply(x, f1, i=i)\n",
    "    temp<-matrix(unlist(temp), byrow=T, nr=length(x))\n",
    "}"
   ]
  },
  {
   "cell_type": "code",
   "execution_count": 3,
   "id": "c3b6e249",
   "metadata": {},
   "outputs": [
    {
     "name": "stdout",
     "output_type": "stream",
     "text": [
      "[1] \"aestivation1.txt IS LOADED!\"\n"
     ]
    }
   ],
   "source": [
    "source('aestivation1.txt')"
   ]
  },
  {
   "cell_type": "code",
   "execution_count": 4,
   "id": "deac3e6c",
   "metadata": {},
   "outputs": [
    {
     "data": {
      "text/plain": [
       "   user  system elapsed \n",
       "   0.01    0.00    0.02 "
      ]
     },
     "metadata": {},
     "output_type": "display_data"
    }
   ],
   "source": [
    "# TEST RUN\n",
    "dyn.load('cpp/aestivation1.dll')\n",
    "m<-rep(0.05, 20)\n",
    "N<-rep(2000, 20)\n",
    "system.time(sim_migration(N1=N, N2=N, m1=m, m2=m, c=0.4))\n",
    "dyn.unload('cpp/aestivation1.dll')"
   ]
  },
  {
   "cell_type": "code",
   "execution_count": 5,
   "id": "216c12b0",
   "metadata": {},
   "outputs": [
    {
     "data": {
      "text/html": [
       "0.000833055717515471"
      ],
      "text/latex": [
       "0.000833055717515471"
      ],
      "text/markdown": [
       "0.000833055717515471"
      ],
      "text/plain": [
       "[1] 0.0008330557"
      ]
     },
     "metadata": {},
     "output_type": "display_data"
    }
   ],
   "source": [
    "# PARK (2012) EQUILIBRIUM r2 VALUES AND Ne ESTIMATES\n",
    "eq_r2<-function(N, c=0.5)\n",
    "{(1+c^2)/(2*N*(1-(1-c/N)*(1-0.5/N)*(1-c)^2))}\n",
    "eq_N<-function(r2, c=0.5)\n",
    "{\n",
    "    f<-function(N) {eq_r2(N, c=c)-r2}\n",
    "    uniroot(f, c(1, 1e8))$root\n",
    "}\n",
    "# TEST CASE\n",
    "eq_r2(N=1000, c=0.5)"
   ]
  },
  {
   "cell_type": "code",
   "execution_count": 6,
   "id": "1cddc93d",
   "metadata": {},
   "outputs": [
    {
     "data": {
      "text/html": [
       "<ol class=list-inline>\n",
       "\t<li>8</li>\n",
       "\t<li>9</li>\n",
       "</ol>\n"
      ],
      "text/latex": [
       "\\begin{enumerate*}\n",
       "\\item 8\n",
       "\\item 9\n",
       "\\end{enumerate*}\n"
      ],
      "text/markdown": [
       "1. 8\n",
       "2. 9\n",
       "\n",
       "\n"
      ],
      "text/plain": [
       "[1] 8 9"
      ]
     },
     "metadata": {},
     "output_type": "display_data"
    },
    {
     "data": {
      "text/html": [
       "<ol class=list-inline>\n",
       "\t<li>8</li>\n",
       "\t<li>9</li>\n",
       "</ol>\n"
      ],
      "text/latex": [
       "\\begin{enumerate*}\n",
       "\\item 8\n",
       "\\item 9\n",
       "\\end{enumerate*}\n"
      ],
      "text/markdown": [
       "1. 8\n",
       "2. 9\n",
       "\n",
       "\n"
      ],
      "text/plain": [
       "[1] 8 9"
      ]
     },
     "metadata": {},
     "output_type": "display_data"
    }
   ],
   "source": [
    "# NOW I WANT TO LOOK AT THE BIAS OF r2 UNDER DIFFERENT r2 AND c VALUES. DOUBLE FOR LOOP\n",
    "# FIRST, 2 EQUAL POPULATION SIZE\n",
    "# I TEND TO HAVE DIFFERENT LENGTHS FOR c AND m TO AVOID CONFUSION\n",
    "N_focal<-1000\n",
    "c<-c(0.01, 0.02, 0.05, 0.1, 0.2, 0.3, 0.4, 0.5)\n",
    "m<-c(0, 0.01, 0.02, 0.05, 0.1, 0.2, 0.3, 0.4, 0.5)\n",
    "result_equal<-matrix(NA, nrow=length(c), ncol=length(m))\n",
    "result_equal_N<-matrix(NA, nrow=length(c), ncol=length(m))\n",
    "cl<-makeCluster(10)\n",
    "registerDoParallel(cl)\n",
    "for (i in 1:length(c))\n",
    "{\n",
    "    for (j in 1:length(m))\n",
    "    {\n",
    "        t1<-round(2.4/c[i])\n",
    "        t2<-ifelse(m[j]>0, round(2.4/m[j]), 10)\n",
    "        t<-max(t1, t2)\n",
    "        mig<-rep(m[j], t)\n",
    "        N_focal<-rep(1000, t)\n",
    "        temp_result<-foreach(k=1:10000, .combine='c') %dopar%\n",
    "        {\n",
    "            if (!is.loaded('allele_freq')) {dyn.load('cpp/aestivation1.dll')}\n",
    "            temp<-sim_migration(N1=N_focal, N2=N_focal, m1=mig, m2=mig, c=c[i])$pop1_r2\n",
    "            return(temp[t+1])\n",
    "        }\n",
    "        result_equal[i,j]<-mean(temp_result, na.rm=T)\n",
    "        result_equal_N[i,j]<-eq_N(r2=result_equal[i,j], c=c[i])\n",
    "    }\n",
    "}\n",
    "stopCluster(cl)\n",
    "dim(result_equal)\n",
    "dim(result_equal_N)"
   ]
  },
  {
   "cell_type": "code",
   "execution_count": null,
   "id": "29637372",
   "metadata": {},
   "outputs": [],
   "source": [
    "# SECOND SCENARIO, ISLAND-MAINLAND SCENARIO\n",
    "# THE MAINLAND POPULATION IS 10x LARGER\n",
    "N_focal<-1000\n",
    "c<-c(0.01, 0.02, 0.05, 0.1, 0.2, 0.3, 0.4, 0.5)\n",
    "m<-c(0, 0.01, 0.02, 0.05, 0.1, 0.2, 0.3, 0.4, 0.5)\n",
    "result_10x<-matrix(NA, nrow=length(c), ncol=length(m))\n",
    "result_10x_N<-matrix(NA, nrow=length(c), ncol=length(m))\n",
    "cl<-makeCluster(10)\n",
    "registerDoParallel(cl)\n",
    "for (i in 1:length(c))\n",
    "{\n",
    "    for (j in 1:length(m))\n",
    "    {\n",
    "        t1<-round(2.4/c[i])\n",
    "        t2<-ifelse(m[j]>0, round(2.4/m[j]), 10)\n",
    "        t<-max(t1, t2)\n",
    "        mig<-rep(m[j], t)\n",
    "        N_focal<-rep(1000, t)\n",
    "        temp_result<-foreach(k=1:10000, .combine='c') %dopar%\n",
    "        {\n",
    "            if (!is.loaded('allele_freq')) {dyn.load('cpp/aestivation1.dll')}\n",
    "            temp<-sim_migration(N1=N_focal, N2=10*N_focal, m1=mig, m2=mig, c=c[i])$pop1_r2\n",
    "            return(temp[t+1])\n",
    "        }\n",
    "        result_10x[i,j]<-mean(temp_result, na.rm=T)\n",
    "        result_10x_N[i,j]<-eq_N(r2=result_10x[i,j], c=c[i])\n",
    "    }\n",
    "}\n",
    "stopCluster(cl)\n",
    "dim(result_10x)\n",
    "dim(result_10x_N)"
   ]
  },
  {
   "cell_type": "code",
   "execution_count": 17,
   "id": "c55f40a2",
   "metadata": {},
   "outputs": [],
   "source": [
    "# SAVE RESULTS\n",
    "save(c, m, result_equal, result_equal_N, result_10x, result_10x_N, file='migration_r2.RData')"
   ]
  },
  {
   "cell_type": "code",
   "execution_count": 6,
   "id": "49ef14a5",
   "metadata": {},
   "outputs": [
    {
     "data": {
      "text/html": [
       "<ol class=list-inline>\n",
       "\t<li>'c'</li>\n",
       "\t<li>'eq_N'</li>\n",
       "\t<li>'eq_r2'</li>\n",
       "\t<li>'f1'</li>\n",
       "\t<li>'f2'</li>\n",
       "\t<li>'fsum'</li>\n",
       "\t<li>'gc2'</li>\n",
       "\t<li>'m'</li>\n",
       "\t<li>'N'</li>\n",
       "\t<li>'result_10x'</li>\n",
       "\t<li>'result_10x_N'</li>\n",
       "\t<li>'result_equal'</li>\n",
       "\t<li>'result_equal_N'</li>\n",
       "\t<li>'sim_aestivation'</li>\n",
       "\t<li>'sim_migration'</li>\n",
       "\t<li>'sim_seasonal'</li>\n",
       "</ol>\n"
      ],
      "text/latex": [
       "\\begin{enumerate*}\n",
       "\\item 'c'\n",
       "\\item 'eq\\_N'\n",
       "\\item 'eq\\_r2'\n",
       "\\item 'f1'\n",
       "\\item 'f2'\n",
       "\\item 'fsum'\n",
       "\\item 'gc2'\n",
       "\\item 'm'\n",
       "\\item 'N'\n",
       "\\item 'result\\_10x'\n",
       "\\item 'result\\_10x\\_N'\n",
       "\\item 'result\\_equal'\n",
       "\\item 'result\\_equal\\_N'\n",
       "\\item 'sim\\_aestivation'\n",
       "\\item 'sim\\_migration'\n",
       "\\item 'sim\\_seasonal'\n",
       "\\end{enumerate*}\n"
      ],
      "text/markdown": [
       "1. 'c'\n",
       "2. 'eq_N'\n",
       "3. 'eq_r2'\n",
       "4. 'f1'\n",
       "5. 'f2'\n",
       "6. 'fsum'\n",
       "7. 'gc2'\n",
       "8. 'm'\n",
       "9. 'N'\n",
       "10. 'result_10x'\n",
       "11. 'result_10x_N'\n",
       "12. 'result_equal'\n",
       "13. 'result_equal_N'\n",
       "14. 'sim_aestivation'\n",
       "15. 'sim_migration'\n",
       "16. 'sim_seasonal'\n",
       "\n",
       "\n"
      ],
      "text/plain": [
       " [1] \"c\"               \"eq_N\"            \"eq_r2\"           \"f1\"             \n",
       " [5] \"f2\"              \"fsum\"            \"gc2\"             \"m\"              \n",
       " [9] \"N\"               \"result_10x\"      \"result_10x_N\"    \"result_equal\"   \n",
       "[13] \"result_equal_N\"  \"sim_aestivation\" \"sim_migration\"   \"sim_seasonal\"   "
      ]
     },
     "metadata": {},
     "output_type": "display_data"
    }
   ],
   "source": [
    "# LOAD RESULTS\n",
    "load('migration_r2.RData')\n",
    "ls()"
   ]
  },
  {
   "cell_type": "code",
   "execution_count": 9,
   "id": "c70cdbbb",
   "metadata": {},
   "outputs": [
    {
     "data": {
      "text/html": [
       "<table>\n",
       "<tbody>\n",
       "\t<tr><td>1.0454693</td><td>1.4944166</td><td>1.738378 </td><td>1.855623 </td><td>1.900960 </td><td>1.960979 </td><td>1.940227 </td><td>1.983096 </td><td>1.959383 </td></tr>\n",
       "\t<tr><td>1.0390881</td><td>1.3102798</td><td>1.493817 </td><td>1.688565 </td><td>1.852310 </td><td>1.890576 </td><td>1.923009 </td><td>1.941843 </td><td>1.957870 </td></tr>\n",
       "\t<tr><td>0.9948893</td><td>1.1447337</td><td>1.283984 </td><td>1.505096 </td><td>1.625155 </td><td>1.789720 </td><td>1.788933 </td><td>1.826596 </td><td>1.814937 </td></tr>\n",
       "\t<tr><td>1.0042421</td><td>1.0931877</td><td>1.126361 </td><td>1.281911 </td><td>1.434930 </td><td>1.594342 </td><td>1.661152 </td><td>1.695463 </td><td>1.648839 </td></tr>\n",
       "\t<tr><td>0.9913020</td><td>1.0423900</td><td>1.067883 </td><td>1.137781 </td><td>1.247945 </td><td>1.347082 </td><td>1.424098 </td><td>1.510763 </td><td>1.463873 </td></tr>\n",
       "\t<tr><td>1.0117509</td><td>0.9949099</td><td>1.043111 </td><td>1.112812 </td><td>1.143511 </td><td>1.249999 </td><td>1.304453 </td><td>1.353113 </td><td>1.359272 </td></tr>\n",
       "\t<tr><td>0.9923735</td><td>1.0305549</td><td>1.017500 </td><td>1.053765 </td><td>1.153557 </td><td>1.208241 </td><td>1.227723 </td><td>1.291045 </td><td>1.303496 </td></tr>\n",
       "\t<tr><td>1.0179771</td><td>0.9932461</td><td>1.028501 </td><td>1.055980 </td><td>1.084853 </td><td>1.138709 </td><td>1.223585 </td><td>1.206495 </td><td>1.246019 </td></tr>\n",
       "</tbody>\n",
       "</table>\n"
      ],
      "text/latex": [
       "\\begin{tabular}{lllllllll}\n",
       "\t 1.0454693 & 1.4944166 & 1.738378  & 1.855623  & 1.900960  & 1.960979  & 1.940227  & 1.983096  & 1.959383 \\\\\n",
       "\t 1.0390881 & 1.3102798 & 1.493817  & 1.688565  & 1.852310  & 1.890576  & 1.923009  & 1.941843  & 1.957870 \\\\\n",
       "\t 0.9948893 & 1.1447337 & 1.283984  & 1.505096  & 1.625155  & 1.789720  & 1.788933  & 1.826596  & 1.814937 \\\\\n",
       "\t 1.0042421 & 1.0931877 & 1.126361  & 1.281911  & 1.434930  & 1.594342  & 1.661152  & 1.695463  & 1.648839 \\\\\n",
       "\t 0.9913020 & 1.0423900 & 1.067883  & 1.137781  & 1.247945  & 1.347082  & 1.424098  & 1.510763  & 1.463873 \\\\\n",
       "\t 1.0117509 & 0.9949099 & 1.043111  & 1.112812  & 1.143511  & 1.249999  & 1.304453  & 1.353113  & 1.359272 \\\\\n",
       "\t 0.9923735 & 1.0305549 & 1.017500  & 1.053765  & 1.153557  & 1.208241  & 1.227723  & 1.291045  & 1.303496 \\\\\n",
       "\t 1.0179771 & 0.9932461 & 1.028501  & 1.055980  & 1.084853  & 1.138709  & 1.223585  & 1.206495  & 1.246019 \\\\\n",
       "\\end{tabular}\n"
      ],
      "text/markdown": [
       "\n",
       "| 1.0454693 | 1.4944166 | 1.738378  | 1.855623  | 1.900960  | 1.960979  | 1.940227  | 1.983096  | 1.959383  |\n",
       "| 1.0390881 | 1.3102798 | 1.493817  | 1.688565  | 1.852310  | 1.890576  | 1.923009  | 1.941843  | 1.957870  |\n",
       "| 0.9948893 | 1.1447337 | 1.283984  | 1.505096  | 1.625155  | 1.789720  | 1.788933  | 1.826596  | 1.814937  |\n",
       "| 1.0042421 | 1.0931877 | 1.126361  | 1.281911  | 1.434930  | 1.594342  | 1.661152  | 1.695463  | 1.648839  |\n",
       "| 0.9913020 | 1.0423900 | 1.067883  | 1.137781  | 1.247945  | 1.347082  | 1.424098  | 1.510763  | 1.463873  |\n",
       "| 1.0117509 | 0.9949099 | 1.043111  | 1.112812  | 1.143511  | 1.249999  | 1.304453  | 1.353113  | 1.359272  |\n",
       "| 0.9923735 | 1.0305549 | 1.017500  | 1.053765  | 1.153557  | 1.208241  | 1.227723  | 1.291045  | 1.303496  |\n",
       "| 1.0179771 | 0.9932461 | 1.028501  | 1.055980  | 1.084853  | 1.138709  | 1.223585  | 1.206495  | 1.246019  |\n",
       "\n"
      ],
      "text/plain": [
       "     [,1]      [,2]      [,3]     [,4]     [,5]     [,6]     [,7]     [,8]    \n",
       "[1,] 1.0454693 1.4944166 1.738378 1.855623 1.900960 1.960979 1.940227 1.983096\n",
       "[2,] 1.0390881 1.3102798 1.493817 1.688565 1.852310 1.890576 1.923009 1.941843\n",
       "[3,] 0.9948893 1.1447337 1.283984 1.505096 1.625155 1.789720 1.788933 1.826596\n",
       "[4,] 1.0042421 1.0931877 1.126361 1.281911 1.434930 1.594342 1.661152 1.695463\n",
       "[5,] 0.9913020 1.0423900 1.067883 1.137781 1.247945 1.347082 1.424098 1.510763\n",
       "[6,] 1.0117509 0.9949099 1.043111 1.112812 1.143511 1.249999 1.304453 1.353113\n",
       "[7,] 0.9923735 1.0305549 1.017500 1.053765 1.153557 1.208241 1.227723 1.291045\n",
       "[8,] 1.0179771 0.9932461 1.028501 1.055980 1.084853 1.138709 1.223585 1.206495\n",
       "     [,9]    \n",
       "[1,] 1.959383\n",
       "[2,] 1.957870\n",
       "[3,] 1.814937\n",
       "[4,] 1.648839\n",
       "[5,] 1.463873\n",
       "[6,] 1.359272\n",
       "[7,] 1.303496\n",
       "[8,] 1.246019"
      ]
     },
     "metadata": {},
     "output_type": "display_data"
    },
    {
     "data": {
      "image/png": "[encoded data removed]",
      "text/plain": [
       "Plot with title \"Ne bias. Equal N. \""
      ]
     },
     "metadata": {},
     "output_type": "display_data"
    }
   ],
   "source": [
    "result_equal_N/1000\n",
    "contour(c, m, result_equal_N/1000, xlab='c', ylab='m', main='Ne bias. Equal N. ')"
   ]
  },
  {
   "cell_type": "code",
   "execution_count": 10,
   "id": "6ff74212",
   "metadata": {},
   "outputs": [
    {
     "data": {
      "text/html": [
       "<table>\n",
       "<tbody>\n",
       "\t<tr><td>1.0157789</td><td>1.680545 </td><td>2.093096 </td><td>2.690906 </td><td>3.009335 </td><td>3.285125 </td><td>3.317428 </td><td>3.488786 </td><td>3.529834 </td></tr>\n",
       "\t<tr><td>1.0376116</td><td>1.430457 </td><td>1.689860 </td><td>2.252914 </td><td>2.614186 </td><td>2.965674 </td><td>3.197310 </td><td>3.231823 </td><td>3.278482 </td></tr>\n",
       "\t<tr><td>1.0070713</td><td>1.173389 </td><td>1.320743 </td><td>1.630020 </td><td>2.076847 </td><td>2.467320 </td><td>2.761303 </td><td>2.905091 </td><td>2.863204 </td></tr>\n",
       "\t<tr><td>1.0072430</td><td>1.121734 </td><td>1.155504 </td><td>1.367427 </td><td>1.607550 </td><td>1.949724 </td><td>2.226408 </td><td>2.319230 </td><td>2.438275 </td></tr>\n",
       "\t<tr><td>1.0022522</td><td>1.057837 </td><td>1.043166 </td><td>1.160548 </td><td>1.328288 </td><td>1.499011 </td><td>1.663427 </td><td>1.792765 </td><td>1.887557 </td></tr>\n",
       "\t<tr><td>0.9909707</td><td>1.013207 </td><td>1.045911 </td><td>1.112908 </td><td>1.186247 </td><td>1.347641 </td><td>1.440636 </td><td>1.517755 </td><td>1.617504 </td></tr>\n",
       "\t<tr><td>0.9848452</td><td>1.023132 </td><td>1.004735 </td><td>1.068232 </td><td>1.124617 </td><td>1.256487 </td><td>1.337890 </td><td>1.424305 </td><td>1.490018 </td></tr>\n",
       "\t<tr><td>0.9889927</td><td>1.016039 </td><td>1.030123 </td><td>1.065889 </td><td>1.084355 </td><td>1.151222 </td><td>1.260051 </td><td>1.382551 </td><td>1.378026 </td></tr>\n",
       "</tbody>\n",
       "</table>\n"
      ],
      "text/latex": [
       "\\begin{tabular}{lllllllll}\n",
       "\t 1.0157789 & 1.680545  & 2.093096  & 2.690906  & 3.009335  & 3.285125  & 3.317428  & 3.488786  & 3.529834 \\\\\n",
       "\t 1.0376116 & 1.430457  & 1.689860  & 2.252914  & 2.614186  & 2.965674  & 3.197310  & 3.231823  & 3.278482 \\\\\n",
       "\t 1.0070713 & 1.173389  & 1.320743  & 1.630020  & 2.076847  & 2.467320  & 2.761303  & 2.905091  & 2.863204 \\\\\n",
       "\t 1.0072430 & 1.121734  & 1.155504  & 1.367427  & 1.607550  & 1.949724  & 2.226408  & 2.319230  & 2.438275 \\\\\n",
       "\t 1.0022522 & 1.057837  & 1.043166  & 1.160548  & 1.328288  & 1.499011  & 1.663427  & 1.792765  & 1.887557 \\\\\n",
       "\t 0.9909707 & 1.013207  & 1.045911  & 1.112908  & 1.186247  & 1.347641  & 1.440636  & 1.517755  & 1.617504 \\\\\n",
       "\t 0.9848452 & 1.023132  & 1.004735  & 1.068232  & 1.124617  & 1.256487  & 1.337890  & 1.424305  & 1.490018 \\\\\n",
       "\t 0.9889927 & 1.016039  & 1.030123  & 1.065889  & 1.084355  & 1.151222  & 1.260051  & 1.382551  & 1.378026 \\\\\n",
       "\\end{tabular}\n"
      ],
      "text/markdown": [
       "\n",
       "| 1.0157789 | 1.680545  | 2.093096  | 2.690906  | 3.009335  | 3.285125  | 3.317428  | 3.488786  | 3.529834  |\n",
       "| 1.0376116 | 1.430457  | 1.689860  | 2.252914  | 2.614186  | 2.965674  | 3.197310  | 3.231823  | 3.278482  |\n",
       "| 1.0070713 | 1.173389  | 1.320743  | 1.630020  | 2.076847  | 2.467320  | 2.761303  | 2.905091  | 2.863204  |\n",
       "| 1.0072430 | 1.121734  | 1.155504  | 1.367427  | 1.607550  | 1.949724  | 2.226408  | 2.319230  | 2.438275  |\n",
       "| 1.0022522 | 1.057837  | 1.043166  | 1.160548  | 1.328288  | 1.499011  | 1.663427  | 1.792765  | 1.887557  |\n",
       "| 0.9909707 | 1.013207  | 1.045911  | 1.112908  | 1.186247  | 1.347641  | 1.440636  | 1.517755  | 1.617504  |\n",
       "| 0.9848452 | 1.023132  | 1.004735  | 1.068232  | 1.124617  | 1.256487  | 1.337890  | 1.424305  | 1.490018  |\n",
       "| 0.9889927 | 1.016039  | 1.030123  | 1.065889  | 1.084355  | 1.151222  | 1.260051  | 1.382551  | 1.378026  |\n",
       "\n"
      ],
      "text/plain": [
       "     [,1]      [,2]     [,3]     [,4]     [,5]     [,6]     [,7]     [,8]    \n",
       "[1,] 1.0157789 1.680545 2.093096 2.690906 3.009335 3.285125 3.317428 3.488786\n",
       "[2,] 1.0376116 1.430457 1.689860 2.252914 2.614186 2.965674 3.197310 3.231823\n",
       "[3,] 1.0070713 1.173389 1.320743 1.630020 2.076847 2.467320 2.761303 2.905091\n",
       "[4,] 1.0072430 1.121734 1.155504 1.367427 1.607550 1.949724 2.226408 2.319230\n",
       "[5,] 1.0022522 1.057837 1.043166 1.160548 1.328288 1.499011 1.663427 1.792765\n",
       "[6,] 0.9909707 1.013207 1.045911 1.112908 1.186247 1.347641 1.440636 1.517755\n",
       "[7,] 0.9848452 1.023132 1.004735 1.068232 1.124617 1.256487 1.337890 1.424305\n",
       "[8,] 0.9889927 1.016039 1.030123 1.065889 1.084355 1.151222 1.260051 1.382551\n",
       "     [,9]    \n",
       "[1,] 3.529834\n",
       "[2,] 3.278482\n",
       "[3,] 2.863204\n",
       "[4,] 2.438275\n",
       "[5,] 1.887557\n",
       "[6,] 1.617504\n",
       "[7,] 1.490018\n",
       "[8,] 1.378026"
      ]
     },
     "metadata": {},
     "output_type": "display_data"
    },
    {
     "data": {
      "image/png": "[encoded data removed]",
      "text/plain": [
       "Plot with title \"Ne bias. 10x. \""
      ]
     },
     "metadata": {},
     "output_type": "display_data"
    }
   ],
   "source": [
    "result_10x_N/1000\n",
    "contour(c, m, result_10x_N/1000, xlab='c', ylab='m', main='Ne bias. 10x. ')"
   ]
  },
  {
   "cell_type": "markdown",
   "id": "691d0724",
   "metadata": {},
   "source": [
    "On these two contour plots, the value of 1 means there is no bias. It is trivial that there is no bias for $m=0$. Locus pairs with smaller $c$ have longer memory effect and contain information about historical events further backward in the past. They \"capture\" more migration events thus have larger bias. The maximum bias I found on the island-mainland case was about 3.5. \n",
    "\n",
    "Bascially they are similar to whatwhat Francesco had found (with minor numerical discrepancies?). Besides I did not observe any dips in bias for small $c$ values, a very minor point that we can live with. \n",
    "\n",
    "Now I just want to confirm that hese bias plots are invariant to $N_e$. "
   ]
  },
  {
   "cell_type": "code",
   "execution_count": 7,
   "id": "c48577c2",
   "metadata": {},
   "outputs": [
    {
     "data": {
      "text/html": [
       "<table>\n",
       "<tbody>\n",
       "\t<tr><td>0.9871893</td><td>1.507779 </td><td>1.699655 </td><td>1.852409 </td><td>1.932119 </td><td>1.981481 </td><td>1.943577 </td><td>2.088054 </td><td>2.038601 </td></tr>\n",
       "\t<tr><td>0.9939697</td><td>1.265357 </td><td>1.493764 </td><td>1.629962 </td><td>1.821019 </td><td>1.877140 </td><td>1.991501 </td><td>1.921790 </td><td>1.946571 </td></tr>\n",
       "\t<tr><td>1.0066317</td><td>1.184292 </td><td>1.212912 </td><td>1.493211 </td><td>1.652524 </td><td>1.741452 </td><td>1.800457 </td><td>1.801781 </td><td>1.785147 </td></tr>\n",
       "\t<tr><td>1.0040824</td><td>1.111525 </td><td>1.162221 </td><td>1.299309 </td><td>1.403901 </td><td>1.596591 </td><td>1.705010 </td><td>1.682736 </td><td>1.669540 </td></tr>\n",
       "\t<tr><td>1.0272788</td><td>1.060768 </td><td>1.072726 </td><td>1.177716 </td><td>1.272653 </td><td>1.398583 </td><td>1.443264 </td><td>1.481228 </td><td>1.518769 </td></tr>\n",
       "\t<tr><td>0.9947731</td><td>0.975047 </td><td>1.045027 </td><td>1.063577 </td><td>1.162266 </td><td>1.220656 </td><td>1.307418 </td><td>1.337942 </td><td>1.383709 </td></tr>\n",
       "\t<tr><td>0.9849715</td><td>0.995438 </td><td>1.003932 </td><td>1.078797 </td><td>1.106843 </td><td>1.193692 </td><td>1.246026 </td><td>1.310360 </td><td>1.297065 </td></tr>\n",
       "\t<tr><td>1.0015635</td><td>1.012697 </td><td>1.029170 </td><td>1.035408 </td><td>1.068355 </td><td>1.161532 </td><td>1.209473 </td><td>1.235384 </td><td>1.275676 </td></tr>\n",
       "</tbody>\n",
       "</table>\n"
      ],
      "text/latex": [
       "\\begin{tabular}{lllllllll}\n",
       "\t 0.9871893 & 1.507779  & 1.699655  & 1.852409  & 1.932119  & 1.981481  & 1.943577  & 2.088054  & 2.038601 \\\\\n",
       "\t 0.9939697 & 1.265357  & 1.493764  & 1.629962  & 1.821019  & 1.877140  & 1.991501  & 1.921790  & 1.946571 \\\\\n",
       "\t 1.0066317 & 1.184292  & 1.212912  & 1.493211  & 1.652524  & 1.741452  & 1.800457  & 1.801781  & 1.785147 \\\\\n",
       "\t 1.0040824 & 1.111525  & 1.162221  & 1.299309  & 1.403901  & 1.596591  & 1.705010  & 1.682736  & 1.669540 \\\\\n",
       "\t 1.0272788 & 1.060768  & 1.072726  & 1.177716  & 1.272653  & 1.398583  & 1.443264  & 1.481228  & 1.518769 \\\\\n",
       "\t 0.9947731 & 0.975047  & 1.045027  & 1.063577  & 1.162266  & 1.220656  & 1.307418  & 1.337942  & 1.383709 \\\\\n",
       "\t 0.9849715 & 0.995438  & 1.003932  & 1.078797  & 1.106843  & 1.193692  & 1.246026  & 1.310360  & 1.297065 \\\\\n",
       "\t 1.0015635 & 1.012697  & 1.029170  & 1.035408  & 1.068355  & 1.161532  & 1.209473  & 1.235384  & 1.275676 \\\\\n",
       "\\end{tabular}\n"
      ],
      "text/markdown": [
       "\n",
       "| 0.9871893 | 1.507779  | 1.699655  | 1.852409  | 1.932119  | 1.981481  | 1.943577  | 2.088054  | 2.038601  |\n",
       "| 0.9939697 | 1.265357  | 1.493764  | 1.629962  | 1.821019  | 1.877140  | 1.991501  | 1.921790  | 1.946571  |\n",
       "| 1.0066317 | 1.184292  | 1.212912  | 1.493211  | 1.652524  | 1.741452  | 1.800457  | 1.801781  | 1.785147  |\n",
       "| 1.0040824 | 1.111525  | 1.162221  | 1.299309  | 1.403901  | 1.596591  | 1.705010  | 1.682736  | 1.669540  |\n",
       "| 1.0272788 | 1.060768  | 1.072726  | 1.177716  | 1.272653  | 1.398583  | 1.443264  | 1.481228  | 1.518769  |\n",
       "| 0.9947731 | 0.975047  | 1.045027  | 1.063577  | 1.162266  | 1.220656  | 1.307418  | 1.337942  | 1.383709  |\n",
       "| 0.9849715 | 0.995438  | 1.003932  | 1.078797  | 1.106843  | 1.193692  | 1.246026  | 1.310360  | 1.297065  |\n",
       "| 1.0015635 | 1.012697  | 1.029170  | 1.035408  | 1.068355  | 1.161532  | 1.209473  | 1.235384  | 1.275676  |\n",
       "\n"
      ],
      "text/plain": [
       "     [,1]      [,2]     [,3]     [,4]     [,5]     [,6]     [,7]     [,8]    \n",
       "[1,] 0.9871893 1.507779 1.699655 1.852409 1.932119 1.981481 1.943577 2.088054\n",
       "[2,] 0.9939697 1.265357 1.493764 1.629962 1.821019 1.877140 1.991501 1.921790\n",
       "[3,] 1.0066317 1.184292 1.212912 1.493211 1.652524 1.741452 1.800457 1.801781\n",
       "[4,] 1.0040824 1.111525 1.162221 1.299309 1.403901 1.596591 1.705010 1.682736\n",
       "[5,] 1.0272788 1.060768 1.072726 1.177716 1.272653 1.398583 1.443264 1.481228\n",
       "[6,] 0.9947731 0.975047 1.045027 1.063577 1.162266 1.220656 1.307418 1.337942\n",
       "[7,] 0.9849715 0.995438 1.003932 1.078797 1.106843 1.193692 1.246026 1.310360\n",
       "[8,] 1.0015635 1.012697 1.029170 1.035408 1.068355 1.161532 1.209473 1.235384\n",
       "     [,9]    \n",
       "[1,] 2.038601\n",
       "[2,] 1.946571\n",
       "[3,] 1.785147\n",
       "[4,] 1.669540\n",
       "[5,] 1.518769\n",
       "[6,] 1.383709\n",
       "[7,] 1.297065\n",
       "[8,] 1.275676"
      ]
     },
     "metadata": {},
     "output_type": "display_data"
    },
    {
     "data": {
      "image/png": "[encoded data removed]",
      "text/plain": [
       "Plot with title \"Ne bias. Equal N=5000. \""
      ]
     },
     "metadata": {},
     "output_type": "display_data"
    }
   ],
   "source": [
    "# I TEND TO HAVE DIFFERENT LENGTHS FOR c AND m TO AVOID CONFUSION\n",
    "N_focal<-5000\n",
    "c<-c(0.01, 0.02, 0.05, 0.1, 0.2, 0.3, 0.4, 0.5)\n",
    "m<-c(0, 0.01, 0.02, 0.05, 0.1, 0.2, 0.3, 0.4, 0.5)\n",
    "result_equal<-matrix(NA, nrow=length(c), ncol=length(m))\n",
    "result_equal_N<-matrix(NA, nrow=length(c), ncol=length(m))\n",
    "cl<-makeCluster(40)\n",
    "registerDoParallel(cl)\n",
    "for (i in 1:length(c))\n",
    "{\n",
    "    for (j in 1:length(m))\n",
    "    {\n",
    "        t1<-round(2.4/c[i])\n",
    "        t2<-ifelse(m[j]>0, round(2.4/m[j]), 10)\n",
    "        t<-max(t1, t2)\n",
    "        mig<-rep(m[j], t)\n",
    "        N_focal<-rep(5000, t)\n",
    "        temp_result<-foreach(k=1:5000, .combine='c') %dopar%\n",
    "        {\n",
    "            if (!is.loaded('allele_freq')) {dyn.load('cpp/aestivation1.dll')}\n",
    "            temp<-sim_migration(N1=N_focal, N2=N_focal, m1=mig, m2=mig, c=c[i])$pop1_r2\n",
    "            return(temp[t+1])\n",
    "        }\n",
    "        result_equal[i,j]<-mean(temp_result, na.rm=T)\n",
    "        result_equal_N[i,j]<-eq_N(r2=result_equal[i,j], c=c[i])\n",
    "    }\n",
    "}\n",
    "stopCluster(cl)\n",
    "# PLOT\n",
    "result_equal_N/5000\n",
    "contour(c, m, result_equal_N/5000, xlab='c', ylab='m', main='Ne bias. Equal N=5000. ')"
   ]
  },
  {
   "cell_type": "markdown",
   "id": "aef9a3fc",
   "metadata": {},
   "source": [
    "So the shape of the bias plots are the same for $N_e=1000$ and $N_e=5000$. \n",
    "\n",
    "#####\n",
    "\n",
    "The next exercise look in Sved's between-population LD measure. \n",
    "\n",
    "Sved suggests a simple between-population LD measure which is the product (or covariance) of the two r's. If they are from two distinct populations, $E[r_i*r_j]=0$. I wonder if it is true. Below I simulate two migration rates: $m=0$ and $m=0.2$, and look at $r_i*r_j$ over time. 10000 independent simulations. "
   ]
  },
  {
   "cell_type": "code",
   "execution_count": null,
   "id": "ebe9539e",
   "metadata": {},
   "outputs": [],
   "source": [
    "# JUST TRY TWO SCENARIOS. m=0 VS m=0.2. c=0.5 FIXED.\n",
    "N_focal<-rep(1000, 50)\n",
    "cl<-makeCluster(40)\n",
    "registerDoParallel(cl)\n",
    "result_mig0<-foreach(i=1:10000, .combine='rbind') %dopar%\n",
    "   {\n",
    "    if (!is.loaded('allele_freq')) {dyn.load('cpp/aestivation1.dll')}\n",
    "    temp<-sim_migration(N1=N_focal, N2=N_focal, m1=rep(0, 50), m2=rep(0, 50), c=0.5)$pop12_rr\n",
    "    return(temp)\n",
    "   }\n",
    "result_mig0.2<-foreach(i=1:10000, .combine='rbind') %dopar%\n",
    "   {\n",
    "    if (!is.loaded('allele_freq')) {dyn.load('cpp/aestivation1.dll')}\n",
    "    temp<-sim_migration(N1=N_focal, N2=N_focal, m1=rep(0.5, 50), m2=rep(0.5, 50), c=0.5)$pop12_rr\n",
    "    return(temp)\n",
    "   }\n",
    "stopCluster(cl)\n",
    "dim(result_mig0)\n",
    "dim(result_mig0.2)"
   ]
  },
  {
   "cell_type": "code",
   "execution_count": 12,
   "id": "529d676b",
   "metadata": {},
   "outputs": [
    {
     "data": {
      "image/png": "[encoded data removed]",
      "text/plain": [
       "Plot with title \"m=0\""
      ]
     },
     "metadata": {},
     "output_type": "display_data"
    },
    {
     "data": {
      "image/png": "[encoded data removed]",
      "text/plain": [
       "Plot with title \"m=0.2\""
      ]
     },
     "metadata": {},
     "output_type": "display_data"
    }
   ],
   "source": [
    "plot(0:50, apply(result_mig0, 2, mean), xlab='generations', ylab='between-population LD', main='m=0')\n",
    "abline(h=0, col='grey', lty=2)\n",
    "plot(0:50, apply(result_mig0.2, 2, mean), xlab='generations', ylab='between-population LD', main='m=0.2')\n",
    "abline(h=0, col='grey', lty=2)"
   ]
  },
  {
   "cell_type": "markdown",
   "id": "120b423f",
   "metadata": {},
   "source": [
    "The first plot looks a white noise, with the average $r_i*r_j$ fluctuating around 0. The second plot (with $m=0.2$) has an equilibrium between-LD values. I expect the equilbrium $r_i*r_j$ values (and its rate to equilibrium) also depend on $c$. Sved might be *partially* correct that such simple product $r_i*r_j$ contains information about migration. \n",
    "\n",
    "There are other measures inspired by classical analysis of contingency tables. Usually there H0 is that the two populations are the same. I don't know what the advantages and disadvantages are for having different H0's. One thing I recommended doing is to verify these test statistics with simulations. For H0 (i.e. they are the same population), simply run single-population simulations, look at the final generation, and randomly assign it to the two populations and calculate your statistics. This should be your null distribution. Do the same for extreme H1 (i.e. with no migration at all) or anything in between. Hopefully they will be outliers when compared to the null. \n",
    "\n",
    "#####\n",
    "[UPDATED]\n",
    "Another thing I would like to mention is $E[D]$ or $E[r]$ in the simple two-locus two-allele case. Assume we have (A and a) allele on the first locus, and (B and b) allele on the second locus. Let $p_A$ and $p_B$ be the two marginal allele frequencies. When time goes, we expect that the proportion of haplotype AB will be close to $p_A*p_B$. We also define $D$ as the deviation between these two numbers. On average (i.e. if we pick many pairs of loci along the genome, calculate the D for each pair, take the average), $E[D]=0$. When we look at a pair loci individually, although it remains true that $E[D]=0$, the $D$ we calculate form the data is not necessarily 0. \n",
    "\n",
    "The second moment $var[D]=E[D^2]>0$. This is casued not only by the sampling variance (i.e. drawing random numbers from multinomial distribution), but also by genetic drift (finite $N_e$). Something you need to think about when designing test statistics. \n",
    "\n",
    "A bit more on the sampling issue. In practice we unavoidably have to deal with sampling error as we cannot survey all individuals from the population (analogy to population mean vs sample mean). Let's assume we have a population whose true haplotye frequencies are all 0.25, hence the true population LD is 0. Let's also consider the fact that we can only survey s individuals from the entire population (of size much greater than s), and we calculate our sample LD from this set of 2s haplotypes. We can happily use a multinomial distribution to model the sample haplotype counts. "
   ]
  },
  {
   "cell_type": "code",
   "execution_count": 2,
   "id": "3a48b736",
   "metadata": {},
   "outputs": [
    {
     "data": {
      "text/html": [
       "0.0169728087462289"
      ],
      "text/latex": [
       "0.0169728087462289"
      ],
      "text/markdown": [
       "0.0169728087462289"
      ],
      "text/plain": [
       "[1] 0.01697281"
      ]
     },
     "metadata": {},
     "output_type": "display_data"
    }
   ],
   "source": [
    "# TRUE HAPLOTYPE FREQ IS 0.25 EACH. WE SAMPLE s INDIVIDUALS (=2s HAPLOTYPES). MULTINOMIAL. \n",
    "# REPEAT 10000 TIMES. \n",
    "s<-30\n",
    "sc<-rmultinom(10000, size=2*s, prob=c(0.25, 0.25, 0.25, 0.25))\n",
    "# CALCULATE r2\n",
    "r2<-(sc[1,]*sc[4,]-sc[2,]*sc[3,])^2/((sc[1,]+sc[2,])*(sc[3,]+sc[4,])*(sc[1,]+sc[3,])*(sc[2,]+sc[4,]))\n",
    "mean(r2)"
   ]
  },
  {
   "cell_type": "markdown",
   "id": "fa637f11",
   "metadata": {},
   "source": [
    "Even the underlying true LD is 0, the sample LD does not always have mean 0 (it's a biased estimator). This baseline or residual LD is caused by sampling. It is obvious that the residual LD diminishes with s, as shown below:"
   ]
  },
  {
   "cell_type": "code",
   "execution_count": 7,
   "id": "b17b60a9",
   "metadata": {},
   "outputs": [
    {
     "data": {
      "image/png": "[encoded data removed]",
      "text/plain": [
       "plot without title"
      ]
     },
     "metadata": {},
     "output_type": "display_data"
    }
   ],
   "source": [
    "s<-seq(10, 100, 5)\n",
    "r2<-s*0\n",
    "for (i in 1:length(s))\n",
    "    {\n",
    "    sc<-rmultinom(10000, size=2*s[i], prob=c(0.25, 0.25, 0.25, 0.25))\n",
    "    temp<-(sc[1,]*sc[4,]-sc[2,]*sc[3,])^2/((sc[1,]+sc[2,])*(sc[3,]+sc[4,])*(sc[1,]+sc[3,])*(sc[2,]+sc[4,]))\n",
    "    r2[i]<-mean(temp, na.rm=T)\n",
    "    }\n",
    "plot(s, r2, xlab='diploid sample size', ylab='residual LD')\n",
    "lines(s, r2)"
   ]
  },
  {
   "cell_type": "markdown",
   "id": "8bde04a4",
   "metadata": {},
   "source": [
    "Say, given a sample of 50 individuals, you are almost guaranteed to observe a minimum $r^2$ value of ~0.01 (the residual LD goes like 1/s). If your observed $r^2$ (average across many loci pairs) is larger than the residual LD, this could indicate the existence of other forces, one of which is genetic drift. Drift creates excess LD as it is essentially another layer of random sampling. When there is no drift (i.e. $N_e$ is infinitely large), the observed $r^2$ is close to the residual LD. "
   ]
  },
  {
   "cell_type": "code",
   "execution_count": null,
   "id": "30d0da01",
   "metadata": {},
   "outputs": [],
   "source": []
  }
 ],
 "metadata": {
  "kernelspec": {
   "display_name": "R",
   "language": "R",
   "name": "ir"
  },
  "language_info": {
   "codemirror_mode": "r",
   "file_extension": ".r",
   "mimetype": "text/x-r-source",
   "name": "R",
   "pygments_lexer": "r",
   "version": "3.5.3"
  }
 },
 "nbformat": 4,
 "nbformat_minor": 5
}
