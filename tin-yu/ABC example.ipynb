{
 "cells": [
  {
   "cell_type": "markdown",
   "id": "0c78a9cc",
   "metadata": {},
   "source": [
    "03/09/2021 First example on Approximate Bayesian Computation. \n",
    "Please read Beaumont (2010), a very good introduction to ABC. \n",
    "\n",
    "We will first simulate our \"real\" data with known parameters, and then use ABC to re-estimate them. We will of course need some summary statistics, and they will be LD-based. "
   ]
  },
  {
   "cell_type": "code",
   "execution_count": 5,
   "id": "317b65a0",
   "metadata": {},
   "outputs": [
    {
     "data": {
      "text/html": [
       "3"
      ],
      "text/latex": [
       "3"
      ],
      "text/markdown": [
       "3"
      ],
      "text/plain": [
       "[1] 3"
      ]
     },
     "metadata": {},
     "output_type": "display_data"
    }
   ],
   "source": [
    "# LOAD SOME PACKAGES\n",
    "require(compiler)\n",
    "enableJIT(3)\n",
    "require(doParallel)"
   ]
  },
  {
   "cell_type": "code",
   "execution_count": 10,
   "id": "780515e6",
   "metadata": {},
   "outputs": [],
   "source": [
    "# DEFINE SOME FUNCTIONS\n",
    "fsum<-function(x) {.Primitive('sum')(x)}\n",
    "f1<-function(x, i) {x[[i]]}\n",
    "f2<-function(x, i)\n",
    "{\n",
    "    temp<-lapply(x, f1, i=i)\n",
    "    temp<-matrix(unlist(temp), byrow=T, nr=length(x))\n",
    "}\n",
    "gc2<-function() {invisible(gc())}"
   ]
  },
  {
   "cell_type": "code",
   "execution_count": 11,
   "id": "fadb8a19",
   "metadata": {},
   "outputs": [
    {
     "name": "stdout",
     "output_type": "stream",
     "text": [
      "[1] \"aestivation1.txt IS LOADED!\"\n"
     ]
    },
    {
     "data": {
      "text/html": [
       "<ol class=list-inline>\n",
       "\t<li>'f1'</li>\n",
       "\t<li>'f2'</li>\n",
       "\t<li>'fsum'</li>\n",
       "\t<li>'gc2'</li>\n",
       "\t<li>'j'</li>\n",
       "\t<li>'loci'</li>\n",
       "\t<li>'real_m'</li>\n",
       "\t<li>'real_N1'</li>\n",
       "\t<li>'real_N2'</li>\n",
       "\t<li>'real_r1r2'</li>\n",
       "\t<li>'real_r21'</li>\n",
       "\t<li>'real_r22'</li>\n",
       "\t<li>'sim_aestivation'</li>\n",
       "\t<li>'sim_migration'</li>\n",
       "\t<li>'sim_seasonal'</li>\n",
       "\t<li>'t1'</li>\n",
       "\t<li>'t2'</li>\n",
       "</ol>\n"
      ],
      "text/latex": [
       "\\begin{enumerate*}\n",
       "\\item 'f1'\n",
       "\\item 'f2'\n",
       "\\item 'fsum'\n",
       "\\item 'gc2'\n",
       "\\item 'j'\n",
       "\\item 'loci'\n",
       "\\item 'real\\_m'\n",
       "\\item 'real\\_N1'\n",
       "\\item 'real\\_N2'\n",
       "\\item 'real\\_r1r2'\n",
       "\\item 'real\\_r21'\n",
       "\\item 'real\\_r22'\n",
       "\\item 'sim\\_aestivation'\n",
       "\\item 'sim\\_migration'\n",
       "\\item 'sim\\_seasonal'\n",
       "\\item 't1'\n",
       "\\item 't2'\n",
       "\\end{enumerate*}\n"
      ],
      "text/markdown": [
       "1. 'f1'\n",
       "2. 'f2'\n",
       "3. 'fsum'\n",
       "4. 'gc2'\n",
       "5. 'j'\n",
       "6. 'loci'\n",
       "7. 'real_m'\n",
       "8. 'real_N1'\n",
       "9. 'real_N2'\n",
       "10. 'real_r1r2'\n",
       "11. 'real_r21'\n",
       "12. 'real_r22'\n",
       "13. 'sim_aestivation'\n",
       "14. 'sim_migration'\n",
       "15. 'sim_seasonal'\n",
       "16. 't1'\n",
       "17. 't2'\n",
       "\n",
       "\n"
      ],
      "text/plain": [
       " [1] \"f1\"              \"f2\"              \"fsum\"            \"gc2\"            \n",
       " [5] \"j\"               \"loci\"            \"real_m\"          \"real_N1\"        \n",
       " [9] \"real_N2\"         \"real_r1r2\"       \"real_r21\"        \"real_r22\"       \n",
       "[13] \"sim_aestivation\" \"sim_migration\"   \"sim_seasonal\"    \"t1\"             \n",
       "[17] \"t2\"             "
      ]
     },
     "metadata": {},
     "output_type": "display_data"
    }
   ],
   "source": [
    "# REUSE SOME SCRIPTS I WROTE BEFORE\n",
    "source('aestivation1.txt')\n",
    "ls()"
   ]
  },
  {
   "cell_type": "markdown",
   "id": "581ee8d6",
   "metadata": {},
   "source": [
    "Now we're going to generate the \"real\" data. Let's assume we have 100 pairs of loci, all with $c=0.5$. We also assume that the true parameters are $N_1=N_2=500$, and $m=0.2$. From previous exercise we think simulating 20 generations forward in time will be enough for migration and recombination to settle. \n",
    "\n",
    "Now let's consider our summary statistics. I'm using $r_{1}^2$ and $r_{2}^2$, the LD measure on the two populations. I'm also including $r_1*r_2$, the Sved's between-population LD measure (You may use something else here). \n",
    "\n",
    "Here I assume symmetric migration with only one migration parameter. In theory I need the 4th summary statistics for unequal m.  "
   ]
  },
  {
   "cell_type": "code",
   "execution_count": 28,
   "id": "85eb793a",
   "metadata": {},
   "outputs": [],
   "source": [
    "# GENERATE \"REAL\" DATA. N1=N2=500, m1=m2=0.2, c=0.5\n",
    "real_N1<-500\n",
    "real_N2<-500\n",
    "real_m<-0.2\n",
    "\n",
    "loci<-100\n",
    "temp_r21<-rep(NA, loci)\n",
    "temp_r22<-rep(NA, loci)\n",
    "temp_r1r2<-rep(NA, loci)\n",
    "\n",
    "t1<-proc.time()\n",
    "dyn.load('cpp/aestivation1.dll')\n",
    "for (j in 1:loci)\n",
    "{\n",
    "    temp<-sim_migration(N1=rep(real_N1, 20), N2=rep(real_N2, 20), \n",
    "                        m1=rep(real_m, 20), m2=rep(real_m, 20), c=0.5)\n",
    "    temp_r21[j]<-temp$pop1_r2[21]\n",
    "    temp_r22[j]<-temp$pop2_r2[21]\n",
    "    temp_r1r2[j]<-temp$pop12_rr[21]\n",
    "}\n",
    "t2<-proc.time()\n",
    "dyn.load('cpp/aestivation1.dll')\n",
    "# THE \"REAL\" SUMMARY STATISTICS ARE THE AVERAGE FROM 10 LOCI\n",
    "real_r21<-mean(temp_r21)\n",
    "real_r22<-mean(temp_r22)\n",
    "real_r1r2<-mean(temp_r1r2)\n",
    "rm(temp); rm(temp_r21); rm(temp_r22); rm(temp_r1r2); gc2();"
   ]
  },
  {
   "cell_type": "code",
   "execution_count": 29,
   "id": "49c4f3e7",
   "metadata": {},
   "outputs": [
    {
     "data": {
      "text/html": [
       "<ol class=list-inline>\n",
       "\t<li>0.00175748119236257</li>\n",
       "\t<li>0.00152472713825958</li>\n",
       "\t<li>0.000484044809457014</li>\n",
       "</ol>\n"
      ],
      "text/latex": [
       "\\begin{enumerate*}\n",
       "\\item 0.00175748119236257\n",
       "\\item 0.00152472713825958\n",
       "\\item 0.000484044809457014\n",
       "\\end{enumerate*}\n"
      ],
      "text/markdown": [
       "1. 0.00175748119236257\n",
       "2. 0.00152472713825958\n",
       "3. 0.000484044809457014\n",
       "\n",
       "\n"
      ],
      "text/plain": [
       "[1] 0.0017574812 0.0015247271 0.0004840448"
      ]
     },
     "metadata": {},
     "output_type": "display_data"
    },
    {
     "data": {
      "text/plain": [
       "   user  system elapsed \n",
       "   0.33    0.00    0.33 "
      ]
     },
     "metadata": {},
     "output_type": "display_data"
    }
   ],
   "source": [
    "# THE \"REAL\" SUMMARY STATISTICS VALUES\n",
    "c(real_r21, real_r22, real_r1r2)\n",
    "# HOW LONG DOES IT TAKE TO SIM ONE SET?\n",
    "t2-t1"
   ]
  },
  {
   "cell_type": "markdown",
   "id": "e00ca9fc",
   "metadata": {},
   "source": [
    "Now we got our \"real\" summary statistics. The next steps are to sample parameters from prior distributions, simulate loci under these parameter values, and calculate summary statistics. \n",
    "\n",
    "We will then match these simulated summary statistics against our \"real\" one (more about this later). \n",
    "\n",
    "For my prior, I sample $N_1$ and $N_2$ from uniform(50, 2000), and $m$ from uniform(0, 0.5), indepenently. Then I will use each set of piror parameters to simulate \"fake\" data and summary statistics (while keeping other factors the same). I aim to draw 10,000 sets of parameters and simulated summary statistics before keeping/rejecting them. You can of course make such decision on the fly (save memory space). "
   ]
  },
  {
   "cell_type": "code",
   "execution_count": 30,
   "id": "4810601d",
   "metadata": {},
   "outputs": [
    {
     "data": {
      "text/html": [
       "<ol class=list-inline>\n",
       "\t<li>10000</li>\n",
       "\t<li>3</li>\n",
       "</ol>\n"
      ],
      "text/latex": [
       "\\begin{enumerate*}\n",
       "\\item 10000\n",
       "\\item 3\n",
       "\\end{enumerate*}\n"
      ],
      "text/markdown": [
       "1. 10000\n",
       "2. 3\n",
       "\n",
       "\n"
      ],
      "text/plain": [
       "[1] 10000     3"
      ]
     },
     "metadata": {},
     "output_type": "display_data"
    }
   ],
   "source": [
    "k<-10000\n",
    "prior_N1<-round(runif(k, 50, 2000))\n",
    "prior_N2<-round(runif(k, 50, 2000))\n",
    "prior_m<-runif(k, 0 ,0.5)\n",
    "loci<-100\n",
    "\n",
    "# ABC, SPREAD ACROSS MANY CPU CORES. IT MAY TAKE A WHILE\n",
    "cl<-makeCluster(44)\n",
    "registerDoParallel(cl)\n",
    "result<-foreach(i=1:k, .combine='rbind') %dopar%\n",
    "{\n",
    "    if (!is.loaded('allele_freq')) {dyn.load('cpp/aestivation1.dll')}\n",
    "    # EACH SIM WILL HAVE 100 LOCI, AND WE TAKE THE AVERAGE\n",
    "    temp_r21<-rep(NA, loci)\n",
    "    temp_r22<-rep(NA, loci)\n",
    "    temp_r1r2<-rep(NA, loci)\n",
    "    for (j in 1:loci)\n",
    "        {\n",
    "        temp<-sim_migration(N1=rep(prior_N1[i], 20), N2=rep(prior_N2[i], 20), \n",
    "                            m1=rep(prior_m[i], 20), m2=rep(prior_m[i], 20), c=0.5)\n",
    "        temp_r21[j]<-temp$pop1_r2[21]\n",
    "        temp_r22[j]<-temp$pop2_r2[21]\n",
    "        temp_r1r2[j]<-temp$pop12_rr[21]\n",
    "        }\n",
    "    return(c(mean(temp_r21), mean(temp_r22), mean(temp_r1r2)))\n",
    "}\n",
    "stopCluster(cl)\n",
    "dim(result)"
   ]
  },
  {
   "cell_type": "code",
   "execution_count": 31,
   "id": "1745c9ce",
   "metadata": {},
   "outputs": [],
   "source": [
    "# SAVE ALL RESULTS JUST IN CASE WE LOST THEM\n",
    "save(real_N1, real_N2, real_m, real_r21, real_r22, real_r1r2, \n",
    "     prior_N1, prior_N2, prior_m, result, file='ABC example.RData')\n",
    "gc2()"
   ]
  },
  {
   "cell_type": "code",
   "execution_count": 32,
   "id": "9a4b912a",
   "metadata": {},
   "outputs": [],
   "source": [
    "# READ BACK RESULTS\n",
    "load('ABC example.RData')"
   ]
  },
  {
   "cell_type": "markdown",
   "id": "ec3aa534",
   "metadata": {},
   "source": [
    "Now we have a bunch of \"fake\" or simulated summary statistics. we can plot them out and see how they look like, and how they react with prior parameter values. In our case, we knew that $r^2_1$ contains information about $N_1$, and so on. But in reality we may not exactly know the relationships among paramters and summary statistics. "
   ]
  },
  {
   "cell_type": "code",
   "execution_count": 36,
   "id": "960a29b4",
   "metadata": {},
   "outputs": [
    {
     "data": {
      "image/png": "[encoded data removed]",
      "text/plain": [
       "Plot with title \"Histogram of result[, 3]\""
      ]
     },
     "metadata": {},
     "output_type": "display_data"
    }
   ],
   "source": [
    "par(mfrow=c(3,2))\n",
    "hist(result[,1], xlab='simulated r^2 first population')\n",
    "plot(prior_N1, result[,1], xlab='prior N1', ylab='simulated r^2 first population')\n",
    "\n",
    "hist(result[,2], xlab='simulated r^2 second population')\n",
    "plot(prior_N2, result[,2], xlab='prior N2', ylab='simulated r^2 second population')\n",
    "hist(result[,3], xlab='simulated r_1*r_2')\n",
    "plot(prior_m, result[,3], xlab='prior m', ylab='simulated r_1*r_2')"
   ]
  },
  {
   "cell_type": "markdown",
   "id": "bfa1b20d",
   "metadata": {},
   "source": [
    "The next step is to work out measure how close these simulations are to our \"real\" dataset. I do not have a concrete idea about the best distance measure, Beaumont might have better idea. "
   ]
  },
  {
   "cell_type": "code",
   "execution_count": 49,
   "id": "14613159",
   "metadata": {},
   "outputs": [],
   "source": [
    "# CALCULATE DISTANCE. I USE THE VARIANCE TO NORMALISE THE DISTANCE\n",
    "variance<-apply(result, 2, var, na.rm=T)\n",
    "distance<-sqrt((result[,1]-real_r21)^2/variance[1]+(result[,2]-real_r22)^2/variance[2]+(result[,3]-real_r1r2)^2/variance[3])"
   ]
  },
  {
   "cell_type": "markdown",
   "id": "7ff7f306",
   "metadata": {},
   "source": [
    "Now, instead of rejecting simulations with large distance, I decide to accept 500 (5%) sims with the smallest distance as my posterior candidates. There are of course better ways, but for demonstration it's good enough. "
   ]
  },
  {
   "cell_type": "code",
   "execution_count": 50,
   "id": "ede2dcfa",
   "metadata": {},
   "outputs": [
    {
     "data": {
      "image/png": "[encoded data removed]",
      "text/plain": [
       "Plot with title \"posterior m\""
      ]
     },
     "metadata": {},
     "output_type": "display_data"
    }
   ],
   "source": [
    "# LET'S SAY WE PICK THE 500 \"CLOSEST\" SIMULATIONS AS OUR POSTERIOR\n",
    "post_N1<-prior_N1[order(distance)[1:500]]\n",
    "post_N2<-prior_N2[order(distance)[1:500]]\n",
    "post_m<-prior_m[order(distance)[1:500]]\n",
    "\n",
    "par(mfrow=c(2,2))\n",
    "hist(post_N1, main='posterior N1')\n",
    "hist(post_N2, main='posterior N2')\n",
    "hist(post_m, main='posterior m')"
   ]
  },
  {
   "cell_type": "code",
   "execution_count": 51,
   "id": "61a7e2ac",
   "metadata": {},
   "outputs": [
    {
     "data": {
      "text/html": [
       "504.828"
      ],
      "text/latex": [
       "504.828"
      ],
      "text/markdown": [
       "504.828"
      ],
      "text/plain": [
       "[1] 504.828"
      ]
     },
     "metadata": {},
     "output_type": "display_data"
    },
    {
     "data": {
      "text/html": [
       "736.914"
      ],
      "text/latex": [
       "736.914"
      ],
      "text/markdown": [
       "736.914"
      ],
      "text/plain": [
       "[1] 736.914"
      ]
     },
     "metadata": {},
     "output_type": "display_data"
    },
    {
     "data": {
      "text/html": [
       "0.33732974755438"
      ],
      "text/latex": [
       "0.33732974755438"
      ],
      "text/markdown": [
       "0.33732974755438"
      ],
      "text/plain": [
       "[1] 0.3373297"
      ]
     },
     "metadata": {},
     "output_type": "display_data"
    }
   ],
   "source": [
    "# POSTERIOR MEAN?\n",
    "mean(post_N1)\n",
    "mean(post_N2)\n",
    "mean(post_m)"
   ]
  },
  {
   "cell_type": "markdown",
   "id": "68a2d4e4",
   "metadata": {},
   "source": [
    "The estimation of m isn't great. Perhaps we don't have enough loci? Or use smaller c?"
   ]
  }
 ],
 "metadata": {
  "kernelspec": {
   "display_name": "R",
   "language": "R",
   "name": "ir"
  },
  "language_info": {
   "codemirror_mode": "r",
   "file_extension": ".r",
   "mimetype": "text/x-r-source",
   "name": "R",
   "pygments_lexer": "r",
   "version": "3.5.3"
  }
 },
 "nbformat": 4,
 "nbformat_minor": 5
}
